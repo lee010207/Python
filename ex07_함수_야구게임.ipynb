{
 "cells": [
  {
   "cell_type": "markdown",
   "id": "43012c79",
   "metadata": {},
   "source": [
    "# 야구게임\n",
    "\n",
    "strike : 숫자, 위치 둘다 맞음\n",
    "\n",
    "ball : 숫자 O, 위치 X"
   ]
  },
  {
   "cell_type": "code",
   "execution_count": 12,
   "id": "3976c308",
   "metadata": {},
   "outputs": [],
   "source": [
    "def isDuplicate(numlist):\n",
    "    for i in range(len(numlist)):\n",
    "        for j in range(i+1 , len(numlist), 1):\n",
    "            if numlist[i] == numlist[j]:\n",
    "                return True"
   ]
  },
  {
   "cell_type": "code",
   "execution_count": 13,
   "id": "4e6c2833",
   "metadata": {},
   "outputs": [
    {
     "name": "stdout",
     "output_type": "stream",
     "text": [
      "True\n"
     ]
    }
   ],
   "source": [
    "li1 = [2,4,1,2,5]\n",
    "check = isDuplicate(li1)\n",
    "print(check)"
   ]
  },
  {
   "cell_type": "code",
   "execution_count": null,
   "id": "433b98fa",
   "metadata": {},
   "outputs": [],
   "source": [
    "def createNum(num):\n",
    "    import random\n",
    "    a,b,c = random.randrange(1,51)"
   ]
  },
  {
   "cell_type": "code",
   "execution_count": 15,
   "id": "c5f50307",
   "metadata": {},
   "outputs": [],
   "source": [
    "import random\n",
    "a = random.randrange(1,51)"
   ]
  }
 ],
 "metadata": {
  "kernelspec": {
   "display_name": "Python 3 (ipykernel)",
   "language": "python",
   "name": "python3"
  },
  "language_info": {
   "codemirror_mode": {
    "name": "ipython",
    "version": 3
   },
   "file_extension": ".py",
   "mimetype": "text/x-python",
   "name": "python",
   "nbconvert_exporter": "python",
   "pygments_lexer": "ipython3",
   "version": "3.10.9"
  }
 },
 "nbformat": 4,
 "nbformat_minor": 5
}
