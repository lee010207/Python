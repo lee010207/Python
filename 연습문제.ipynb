{
 "cells": [
  {
   "cell_type": "code",
   "execution_count": 8,
   "id": "87fadebe",
   "metadata": {},
   "outputs": [
    {
     "name": "stdout",
     "output_type": "stream",
     "text": [
      "92\n"
     ]
    }
   ],
   "source": [
    "def solution(n):\n",
    "    \n",
    "    no3 = []\n",
    "    for i in range(1,100):\n",
    "        if i%3 != 0 and '3' not in str(i):\n",
    "            no3.append(i)\n",
    "            \n",
    "    answer = no3[n-1]\n",
    "    return answer\n",
    "print(solution(50))"
   ]
  },
  {
   "cell_type": "code",
   "execution_count": 2,
   "id": "6ebcc99a",
   "metadata": {},
   "outputs": [
    {
     "name": "stdout",
     "output_type": "stream",
     "text": [
      "[1, 2, 4, 5, 7, 8, 10, 11, 14, 16, 17, 19, 20, 22, 25, 26, 28, 29, 40, 41, 44, 46, 47, 49, 50, 52, 55, 56, 58, 59, 61, 62, 64, 65, 67, 68, 70, 71, 74, 76, 77, 79, 80, 82, 85, 86, 88, 89, 91, 92, 94, 95, 97, 98]\n"
     ]
    }
   ],
   "source": [
    "no3 = []\n",
    "for i in range(1,100):\n",
    "    if i%3 != 0 and '3' not in str(i):\n",
    "        no3.append(i)\n",
    "print(no3)"
   ]
  }
 ],
 "metadata": {
  "kernelspec": {
   "display_name": "Python 3 (ipykernel)",
   "language": "python",
   "name": "python3"
  },
  "language_info": {
   "codemirror_mode": {
    "name": "ipython",
    "version": 3
   },
   "file_extension": ".py",
   "mimetype": "text/x-python",
   "name": "python",
   "nbconvert_exporter": "python",
   "pygments_lexer": "ipython3",
   "version": "3.10.9"
  }
 },
 "nbformat": 4,
 "nbformat_minor": 5
}
